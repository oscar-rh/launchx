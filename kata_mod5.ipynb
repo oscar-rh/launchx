{
 "cells": [
  {
   "cell_type": "code",
   "execution_count": 7,
   "metadata": {},
   "outputs": [
    {
     "name": "stdout",
     "output_type": "stream",
     "text": [
      "628949330\n",
      "390577534\n"
     ]
    }
   ],
   "source": [
    "# Crear variables para almacenar las dos distancias\n",
    "distancia_tierra = 149597870\n",
    "distancia_jupiter = 778547200\n",
    "\n",
    "# Calcular la distancia entre planetas\n",
    "\n",
    "distancia_entre_planetas = abs(149597870 - 778547200)\n",
    "print (distancia_entre_planetas)\n",
    "\n",
    "print (round(distancia_entre_planetas * 0.621))\n",
    "\n",
    "\n"
   ]
  },
  {
   "cell_type": "code",
   "execution_count": 11,
   "metadata": {},
   "outputs": [
    {
     "name": "stdout",
     "output_type": "stream",
     "text": [
      "20\n",
      "12\n"
     ]
    }
   ],
   "source": [
    "\n",
    "#EJERCICIO 2\n",
    "# Almacenar las entradas del usuario\n",
    "# Convierte las cadenas de ambos planetas a números enteros\n",
    "# Realizar el cálculo y determinar el valor absoluto\n",
    "\n",
    "planeta1 = input(\"¿Cuál es la distancia al sol del planeta 1?\")\n",
    "planeta2 = input(\"¿Cuál es la distancia al sol del planeta 2?\")\n",
    "\n",
    "distancia_entre_planetas2 = int(planeta1) - int(planeta2)\n",
    "print (abs(distancia_entre_planetas2))\n",
    "\n",
    "\n",
    "print (round(distancia_entre_planetas2 * 0.621))\n"
   ]
  }
 ],
 "metadata": {
  "interpreter": {
   "hash": "1402d0f7e83460ac1119779312c95b3fae66c02bc4f5dd2d2cdf95414076cbbb"
  },
  "kernelspec": {
   "display_name": "Python 3.10.2 64-bit",
   "language": "python",
   "name": "python3"
  },
  "language_info": {
   "codemirror_mode": {
    "name": "ipython",
    "version": 3
   },
   "file_extension": ".py",
   "mimetype": "text/x-python",
   "name": "python",
   "nbconvert_exporter": "python",
   "pygments_lexer": "ipython3",
   "version": "3.10.2"
  },
  "orig_nbformat": 4
 },
 "nbformat": 4,
 "nbformat_minor": 2
}
