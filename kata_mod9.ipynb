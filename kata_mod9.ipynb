{
 "cells": [
  {
   "cell_type": "code",
   "execution_count": 5,
   "metadata": {},
   "outputs": [
    {
     "name": "stdout",
     "output_type": "stream",
     "text": [
      "3 4 5\n",
      "el promedio de combustible de los tanques es 4.0\n"
     ]
    }
   ],
   "source": [
    "# Función para leer 3 tanques de combustible y muestre el promedio\n",
    "\n",
    "def informe( tanque1, tanque2, tanque3) :\n",
    "    print(tanque1, tanque2, tanque3)\n",
    "    total = tanque1 + tanque2 + tanque3 \n",
    "    promedio = total / 3\n",
    "    return f'el promedio de combustible de los tanques es {promedio}'\n",
    "\n",
    "# Llamamos a la función que genera el reporte print(funcion(tanque1, tanque2, tanque3))\n",
    "print(informe(3,4,5))"
   ]
  },
  {
   "cell_type": "code",
   "execution_count": 8,
   "metadata": {},
   "outputs": [
    {
     "name": "stdout",
     "output_type": "stream",
     "text": [
      "el promedio de combustible de los tanques es 4.0\n"
     ]
    }
   ],
   "source": [
    "\n",
    "# Función informe Actualizada con la función\n",
    "def informe( tanque1, tanque2, tanque3) :\n",
    "    total = tanque1 + tanque2 + tanque3 \n",
    "    promedio = calcula_promedio(total, 3)\n",
    "    return f'el promedio de combustible de los tanques es {promedio}'\n",
    "\n",
    "# Función promedio \n",
    "def calcula_promedio (sumatoria, cantidadDatos) :\n",
    "    return sumatoria / cantidadDatos\n",
    "\n",
    "\n",
    "# Llamamos a la función que genera el reporte print(funcion(tanque1, tanque2, tanque3))\n",
    "print(informe(3,4,5))"
   ]
  },
  {
   "cell_type": "code",
   "execution_count": 11,
   "metadata": {},
   "outputs": [
    {
     "name": "stdout",
     "output_type": "stream",
     "text": [
      "Hora de lanzamiento: 12:20 \n",
      "Tiempo de Vuelo: 4 hrs \n",
      "Destino: Luna \n",
      "Tanque Externo: 20 lts \n",
      "Tanque Interno: 10 lts   \n"
     ]
    }
   ],
   "source": [
    "# EJERCICIO 2:\n",
    "# Función con un informe preciso de la misión. Considera hora de prelanzamiento, tiempo de vuelo, destino, tanque externo y tanque interno\n",
    "\n",
    "def informe_cohete (horaDeLanzamiento, TiempoDeVuelo, Destino, TanqueExterno, TanqueInterno ):\n",
    "    print (f'Hora de lanzamiento: {horaDeLanzamiento} \\nTiempo de Vuelo: {TiempoDeVuelo} hrs \\nDestino: {Destino} \\nTanque Externo: {TanqueExterno} \\nTanque Interno: {TanqueInterno}   ')\n",
    "\n",
    "informe_cohete('12:20', 4, 'Luna', '20 lts', '10 lts')"
   ]
  }
 ],
 "metadata": {
  "interpreter": {
   "hash": "aee8b7b246df8f9039afb4144a1f6fd8d2ca17a180786b69acc140d282b71a49"
  },
  "kernelspec": {
   "display_name": "Python 3.10.2 64-bit",
   "language": "python",
   "name": "python3"
  },
  "language_info": {
   "codemirror_mode": {
    "name": "ipython",
    "version": 3
   },
   "file_extension": ".py",
   "mimetype": "text/x-python",
   "name": "python",
   "nbconvert_exporter": "python",
   "pygments_lexer": "ipython3",
   "version": "3.10.2"
  },
  "orig_nbformat": 4
 },
 "nbformat": 4,
 "nbformat_minor": 2
}
