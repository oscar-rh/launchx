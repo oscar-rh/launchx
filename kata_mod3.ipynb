{
 "cells": [
  {
   "cell_type": "code",
   "execution_count": 3,
   "metadata": {},
   "outputs": [
    {
     "name": "stdout",
     "output_type": "stream",
     "text": [
      "Tranquilo, puedes seguir estudiando\n"
     ]
    }
   ],
   "source": [
    "velocidad = input('Cual es la velocidad del asteroide: ')\n",
    "\n",
    "if float(velocidad) > 25 :\n",
    "    print ('Cuidado! un asteroide se acerca a gran velocidad')\n",
    "else :\n",
    "    print ('Tranquilo, puedes seguir estudiando')\n"
   ]
  },
  {
   "cell_type": "code",
   "execution_count": 4,
   "metadata": {},
   "outputs": [
    {
     "name": "stdout",
     "output_type": "stream",
     "text": [
      "Alerta! es posible ver un rayo de luz en el cielo\n"
     ]
    }
   ],
   "source": [
    "velocidad = input('Cual es la velocidad del asteroide: ')\n",
    "\n",
    "if float(velocidad) >= 20 :\n",
    "    \n",
    "    print ('Alerta! es posible ver un rayo de luz en el cielo')\n",
    "else :\n",
    "    print ('Nada de que preocuparse')"
   ]
  },
  {
   "cell_type": "code",
   "execution_count": 1,
   "metadata": {},
   "outputs": [
    {
     "name": "stdout",
     "output_type": "stream",
     "text": [
      "¡Alerta, Un asteroide muy peligroso viene hacia la Tierra!\n"
     ]
    }
   ],
   "source": [
    "velocidad = input('Cual es la velocidad del asteroide: ')\n",
    "tamano = input('Cual es el tamaño  del asteroide: ')\n",
    "if float(velocidad) > 25 and float(tamano) > 25:\n",
    "    print('¡Alerta, Un asteroide muy peligroso viene hacia la Tierra!')\n",
    "elif float(velocidad) >= 20:\n",
    "    print ('Alerta! es posible ver un rayo de luz en el cielo')\n",
    "elif float(tamano) < 25:\n",
    "    print ('Nada de que preocuparse, se quemará a medida que entre en la atmósfera de la Tierra.')\n",
    "else:\n",
    "    print ('Nada de que preocuparse')"
   ]
  }
 ],
 "metadata": {
  "interpreter": {
   "hash": "aee8b7b246df8f9039afb4144a1f6fd8d2ca17a180786b69acc140d282b71a49"
  },
  "kernelspec": {
   "display_name": "Python 3.10.2 64-bit",
   "language": "python",
   "name": "python3"
  },
  "language_info": {
   "codemirror_mode": {
    "name": "ipython",
    "version": 3
   },
   "file_extension": ".py",
   "mimetype": "text/x-python",
   "name": "python",
   "nbconvert_exporter": "python",
   "pygments_lexer": "ipython3",
   "version": "3.10.2"
  },
  "orig_nbformat": 4
 },
 "nbformat": 4,
 "nbformat_minor": 2
}
