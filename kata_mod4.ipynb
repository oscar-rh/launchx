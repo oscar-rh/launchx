{
 "cells": [
  {
   "cell_type": "code",
   "execution_count": 43,
   "metadata": {},
   "outputs": [
    {
     "name": "stdout",
     "output_type": "stream",
     "text": [
      " \n",
      "On average, the Moon moves 4cm away from the Earth every year\n",
      " The highest daylight temperature of the Moon is 127 C\n",
      "---------------\n",
      " The highest daylight temperature of the Moon is 127 Celsius\n"
     ]
    }
   ],
   "source": [
    "text = \"\"\"Interesting facts about the Moon. The Moon is Earth's only satellite. There are several interesting facts about the Moon and how it affects life here on Earth. \n",
    "On average, the Moon moves 4cm away from the Earth every year. This yearly drift is not significant enough to cause immediate effects on Earth. The highest daylight temperature of the Moon is 127 C.\"\"\"\n",
    "\n",
    "#Primero, divide el texto en cada oración para trabajar con su contenido:\n",
    "oraciones = text.split('.')\n",
    "\n",
    "#imprime si hay  las palabras : average, temperature y distance \n",
    "\n",
    "palabras = ['average', 'temperature', 'distance']\n",
    "for oracion in oraciones :\n",
    "\n",
    "    #if oracion.find('average') > 0  or oracion.find('temperature') > 0 or oracion.find('distance') > 0: \n",
    "    for palabra in palabras : \n",
    "        if palabra in oracion :\n",
    "            print(oracion) \n",
    "\n",
    "#Ciclo para cambiar C a Celsius\n",
    "print ('---------------')\n",
    "\n",
    "for oracion in oraciones : \n",
    "    if oracion.find(' C') > 0 :\n",
    "        print(oracion.replace(' C', ' Celsius'))\n"
   ]
  },
  {
   "cell_type": "code",
   "execution_count": 58,
   "metadata": {},
   "outputs": [
    {
     "name": "stdout",
     "output_type": "stream",
     "text": [
      "Gravity facts about Moon. Planet: Earth. Gravity: 0.00162\n",
      "\n",
      "\n",
      "Gravity facts about Moon \n",
      "------------------------------- \n",
      "planet: Earth \n",
      "gravity: 1.6199999999999999 \n",
      "\n",
      "---------------\n",
      "\n",
      "\n",
      "Gravity Facts About Ganimedes \n",
      "------------------------------- \n",
      "Planet: Marte \n",
      "Gravity: 0.00143\n"
     ]
    }
   ],
   "source": [
    "# Datos con los que vas a trabajar\n",
    "name = \"Moon\"\n",
    "gravity = 0.00162 # in kms\n",
    "planet = \"Earth\"\n",
    "\n",
    "\n",
    "#crea un título para el texto. Utiliza las variables en lugar de escribir.\n",
    "plantilla =  f'Gravity facts about {name}. Planet: {planet}. Gravity: {gravity}'\n",
    "print (plantilla)\n",
    "\n",
    "\n",
    "# texto tabular multiplicando por 1000\n",
    "\n",
    "plantilla =  f'\\n\\nGravity facts about {name} \\n------------------------------- \\nplanet: {planet} \\ngravity: {gravity * 1000} \\n'\n",
    "print (plantilla)\n",
    "print ('---------------')\n",
    "\n",
    "\n",
    "plantilla2 = \"\"\"\\n\\nGravity facts about {nombre} \\n------------------------------- \\nplanet: {planeta} \\ngravity: {gravedad}\"\"\".format(planeta='Marte', nombre='Ganimedes', gravedad=0.00143).title()\n",
    "\n",
    "print(plantilla2)\n",
    "\n",
    "\n"
   ]
  }
 ],
 "metadata": {
  "interpreter": {
   "hash": "aee8b7b246df8f9039afb4144a1f6fd8d2ca17a180786b69acc140d282b71a49"
  },
  "kernelspec": {
   "display_name": "Python 3.10.2 64-bit",
   "language": "python",
   "name": "python3"
  },
  "language_info": {
   "codemirror_mode": {
    "name": "ipython",
    "version": 3
   },
   "file_extension": ".py",
   "mimetype": "text/x-python",
   "name": "python",
   "nbconvert_exporter": "python",
   "pygments_lexer": "ipython3",
   "version": "3.10.2"
  },
  "orig_nbformat": 4
 },
 "nbformat": 4,
 "nbformat_minor": 2
}
