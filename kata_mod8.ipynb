{
 "cells": [
  {
   "cell_type": "code",
   "execution_count": 15,
   "metadata": {},
   "outputs": [
    {
     "name": "stdout",
     "output_type": "stream",
     "text": [
      "Planeta: Mars , Lunas: 2  \n",
      "Planeta: Mars, Circunferencia polar:  6752 \n"
     ]
    }
   ],
   "source": [
    "# Crea un diccionario llamado planet con los datos propuestos\n",
    "\n",
    "planet = {\n",
    "\n",
    "    'name' : 'Mars', \n",
    "    'moons': 2 \n",
    "}\n",
    "\n",
    "\n",
    "\n",
    "# Muestra el nombre del planeta y el número de lunas que tiene\n",
    "print ( f\"Planeta: {planet['name']} , Lunas: {planet['moons']}  \"  )\n",
    "\n",
    "\n",
    "# Agrega la clave circunferencia con los datos proporcionados previamente\n",
    "planet['circunferencia (km)'] = {  \n",
    "\n",
    "    'polar': 6752 , \n",
    "    'equatorial' : 6792\n",
    "}\n",
    "\n",
    "\n",
    "# Imprime el nombre del planeta con su circunferencia polar.\n",
    "print ( f\"Planeta: {planet['name']}, Circunferencia polar:  {planet['circunferencia (km)']['polar'] } \"    )"
   ]
  },
  {
   "cell_type": "code",
   "execution_count": 20,
   "metadata": {},
   "outputs": [
    {
     "name": "stdout",
     "output_type": "stream",
     "text": [
      "total de lunas:   214\n",
      "promedio de lunas: 17.833333333333332\n"
     ]
    }
   ],
   "source": [
    "\n",
    "planet_moons = {\n",
    "    'mercury': 0,\n",
    "    'venus': 0,\n",
    "    'earth': 1,\n",
    "    'mars': 2,\n",
    "    'jupiter': 79,\n",
    "    'saturn': 82,\n",
    "    'uranus': 27,\n",
    "    'neptune': 14,\n",
    "    'pluto': 5,\n",
    "    'haumea': 2,\n",
    "    'makemake': 1,\n",
    "    'eris': 1\n",
    "}\n",
    "\n",
    "suma_de_lunas = 0\n",
    "\n",
    "# Añade el código para determinar el número de lunas.\n",
    "for lunas in planet_moons.values() : \n",
    "    suma_de_lunas = suma_de_lunas + lunas\n",
    "print (f\"total de lunas:   {suma_de_lunas}\")\n",
    "\n",
    "promedio = suma_de_lunas / len(planet_moons)\n",
    "print (f\"promedio de lunas: {promedio}\" )\n"
   ]
  }
 ],
 "metadata": {
  "interpreter": {
   "hash": "1402d0f7e83460ac1119779312c95b3fae66c02bc4f5dd2d2cdf95414076cbbb"
  },
  "kernelspec": {
   "display_name": "Python 3.10.2 64-bit",
   "language": "python",
   "name": "python3"
  },
  "language_info": {
   "codemirror_mode": {
    "name": "ipython",
    "version": 3
   },
   "file_extension": ".py",
   "mimetype": "text/x-python",
   "name": "python",
   "nbconvert_exporter": "python",
   "pygments_lexer": "ipython3",
   "version": "3.10.2"
  },
  "orig_nbformat": 4
 },
 "nbformat": 4,
 "nbformat_minor": 2
}
