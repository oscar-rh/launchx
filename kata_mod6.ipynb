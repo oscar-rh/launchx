{
 "cells": [
  {
   "cell_type": "code",
   "execution_count": 1,
   "metadata": {},
   "outputs": [
    {
     "name": "stdout",
     "output_type": "stream",
     "text": [
      "['Mercurio', 'Venus', 'Tierra', 'Marte', 'Jupiter', 'Saturno', 'Urano', 'Neptuno']\n",
      "Pluton\n"
     ]
    }
   ],
   "source": [
    "\n",
    "# Creamos la lista planets y la mostramos\n",
    "planets = ['Mercurio', 'Venus', 'Tierra', 'Marte', 'Jupiter', 'Saturno', 'Urano', 'Neptuno']\n",
    "print(planets)\n",
    "planets.append('Pluton')\n",
    "print(planets[-1])\n",
    "\n",
    "\n"
   ]
  },
  {
   "cell_type": "code",
   "execution_count": 7,
   "metadata": {},
   "outputs": [
    {
     "name": "stdout",
     "output_type": "stream",
     "text": [
      "Se encontro el planete en la posicion 4 \n",
      "Planetas mas cercanos al sol antes de Mars\n",
      "['Mercury', 'Venus', 'Earth']\n",
      "Planetas mas lejanos al sol despues de Mars\n",
      "['Jupiter', 'Saturn', 'Neptune']\n"
     ]
    }
   ],
   "source": [
    "\n",
    "# Lista de planetas\n",
    "planets = ['Mercury', 'Venus', 'Earth', 'Mars', 'Jupiter', 'Saturn', 'Neptune']\n",
    "\n",
    "# Busca el planeta en la lista\n",
    "planeta_a_buscar = input('Introduce el nombre de un planeta:')\n",
    "posicion = planets.index(planeta_a_buscar)\n",
    "print(f'Se encontro el planete en la posicion {posicion + 1} ' )\n",
    "\n",
    "# Muestra los planetas más cercanos al sol\n",
    "print(f'Planetas mas cercanos al sol antes de {planeta_a_buscar}')\n",
    "print(planets[0:posicion])\n",
    "\n",
    "# Muestra los planetas más lejanos al sol\n",
    "print(f'Planetas mas lejanos al sol despues de {planeta_a_buscar}')\n",
    "print(planets[posicion+1:])"
   ]
  }
 ],
 "metadata": {
  "interpreter": {
   "hash": "1402d0f7e83460ac1119779312c95b3fae66c02bc4f5dd2d2cdf95414076cbbb"
  },
  "kernelspec": {
   "display_name": "Python 3.10.2 64-bit",
   "language": "python",
   "name": "python3"
  },
  "language_info": {
   "codemirror_mode": {
    "name": "ipython",
    "version": 3
   },
   "file_extension": ".py",
   "mimetype": "text/x-python",
   "name": "python",
   "nbconvert_exporter": "python",
   "pygments_lexer": "ipython3",
   "version": "3.10.2"
  },
  "orig_nbformat": 4
 },
 "nbformat": 4,
 "nbformat_minor": 2
}
